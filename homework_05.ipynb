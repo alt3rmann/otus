{
 "cells": [
  {
   "cell_type": "markdown",
   "id": "0d435b8a",
   "metadata": {},
   "source": [
    "# Проектируем иерархию классов для работы с файлами\n",
    "\n",
    "## Цель:\n",
    "В этом ДЗ вы напишете базовые и конкретные классы для предметной области. И оцените перспективы добавления нового функционала в полученную иерархию.\n",
    "\n",
    "\n",
    "## Описание/Пошаговая инструкция выполнения домашнего задания:\n",
    "* В проекте мы работаем с медиа-файлами (аудио, видео, фото).\n",
    "* Есть некоторый общий набор данных о файле, необходимый для реализации бизнес-логики (имя, размер, дата создания, владелец...).\n",
    "* Для каждого типа медиа-файлов есть свой набор метаданных.\n",
    "* Попробуйте написать классы для работы с медиа-файлами (они будут основой для пользовательского кода остальных команд).\n",
    "* Приведите примеры кода, как можно создать, обновить, удалить или провести какое-нибудь действие (конвертация, извлечение фич) над файлом (можно без реализации деталей).\n",
    "* *Попробуйте дописать классы для работы с файлами, расположенными не на локальном диске (облако, удаленный сервер, s3-like storage).\n",
    "* Попробуйте ответить на вопросы: много ли кода придется дописать / переписать при добавлении новых типов файлов и способов их хранения?\n",
    "* !Суть задания — именно проектирование классовой иерархии, а не реализация самой логики, поэтому достаточно, например, просто объявить метод .save(...) и в комментарии уточнить, что он должен делать, без конкретной реализации."
   ]
  },
  {
   "cell_type": "markdown",
   "id": "b8c16ecd",
   "metadata": {},
   "source": [
    "## Базовая структура классов"
   ]
  },
  {
   "cell_type": "code",
   "execution_count": 1,
   "id": "9922a47f",
   "metadata": {},
   "outputs": [],
   "source": [
    "from abc import ABC, abstractmethod\n",
    "from datetime import datetime\n",
    "from typing import Dict\n"
   ]
  },
  {
   "cell_type": "markdown",
   "id": "fd02fbd1",
   "metadata": {},
   "source": [
    "## Абстрактный базовый класс MediaFile"
   ]
  },
  {
   "cell_type": "code",
   "execution_count": 2,
   "id": "141818ef",
   "metadata": {},
   "outputs": [],
   "source": [
    "class MediaFile(ABC):\n",
    "    def __init__(self, name: str, size: int, created_at: datetime, owner: str):\n",
    "        self.name = name\n",
    "        self.size = size\n",
    "        self.created_at = created_at\n",
    "        self.owner = owner\n",
    "    \n",
    "    @abstractmethod\n",
    "    def get_metadata(self) -> Dict:\n",
    "        \"\"\"Возвращает метаданные файла\"\"\"\n",
    "        pass\n",
    "\n",
    "    @abstractmethod\n",
    "    def save(self, path: str):\n",
    "        \"\"\"Сохраняет файл по указанному пути\"\"\"\n",
    "        pass\n",
    "\n",
    "    @abstractmethod\n",
    "    def delete(self):\n",
    "        \"\"\"Удаляет файл\"\"\"\n",
    "        pass\n",
    "\n",
    "    @abstractmethod\n",
    "    def process(self):\n",
    "        \"\"\"Выполняет обработку файла (конвертация, извлечение фич и т.д.)\"\"\"\n",
    "        pass\n"
   ]
  },
  {
   "cell_type": "markdown",
   "id": "7f8ea8e7",
   "metadata": {},
   "source": [
    "## Конкретный класс: AudioFile"
   ]
  },
  {
   "cell_type": "code",
   "execution_count": 3,
   "id": "86829f8c",
   "metadata": {},
   "outputs": [],
   "source": [
    "class AudioFile(MediaFile):\n",
    "    def __init__(self, name, size, created_at, owner, duration, codec):\n",
    "        super().__init__(name, size, created_at, owner)\n",
    "        self.duration = duration\n",
    "        self.codec = codec\n",
    "\n",
    "    def get_metadata(self):\n",
    "        return {\n",
    "            \"name\": self.name,\n",
    "            \"size\": self.size,\n",
    "            \"created_at\": self.created_at,\n",
    "            \"owner\": self.owner,\n",
    "            \"duration\": self.duration,\n",
    "            \"codec\": self.codec\n",
    "        }\n",
    "\n",
    "    def save(self, path: str):\n",
    "        # Логика сохранения аудиофайла\n",
    "        pass\n",
    "\n",
    "    def delete(self):\n",
    "        # Логика удаления аудиофайла\n",
    "        pass\n",
    "\n",
    "    def process(self):\n",
    "        # Например, извлечение аудио-фич\n",
    "        pass\n"
   ]
  },
  {
   "cell_type": "markdown",
   "id": "9f1a8e49",
   "metadata": {},
   "source": [
    "## PhotoFile и VideoFile"
   ]
  },
  {
   "cell_type": "code",
   "execution_count": 4,
   "id": "6bff93e6",
   "metadata": {},
   "outputs": [],
   "source": [
    "class PhotoFile(MediaFile):\n",
    "    def __init__(self, name, size, created_at, owner, resolution):\n",
    "        super().__init__(name, size, created_at, owner)\n",
    "        self.resolution = resolution\n",
    "\n",
    "    def get_metadata(self):\n",
    "        return {\n",
    "            \"name\": self.name,\n",
    "            \"size\": self.size,\n",
    "            \"created_at\": self.created_at,\n",
    "            \"owner\": self.owner,\n",
    "            \"resolution\": self.resolution\n",
    "        }\n",
    "\n",
    "    def save(self, path: str):\n",
    "        pass\n",
    "\n",
    "    def delete(self):\n",
    "        pass\n",
    "\n",
    "    def process(self):\n",
    "        # Например, генерация thumbnail\n",
    "        pass\n",
    "\n",
    "\n",
    "class VideoFile(MediaFile):\n",
    "    def __init__(self, name, size, created_at, owner, duration, resolution, fps):\n",
    "        super().__init__(name, size, created_at, owner)\n",
    "        self.duration = duration\n",
    "        self.resolution = resolution\n",
    "        self.fps = fps\n",
    "\n",
    "    def get_metadata(self):\n",
    "        return {\n",
    "            \"name\": self.name,\n",
    "            \"size\": self.size,\n",
    "            \"created_at\": self.created_at,\n",
    "            \"owner\": self.owner,\n",
    "            \"duration\": self.duration,\n",
    "            \"resolution\": self.resolution,\n",
    "            \"fps\": self.fps\n",
    "        }\n",
    "\n",
    "    def save(self, path: str):\n",
    "        pass\n",
    "\n",
    "    def delete(self):\n",
    "        pass\n",
    "\n",
    "    def process(self):\n",
    "        # Например, нарезка на сцены\n",
    "        pass\n"
   ]
  },
  {
   "cell_type": "markdown",
   "id": "38d48120",
   "metadata": {},
   "source": [
    "## Пример хранилища RemoteStorageFile"
   ]
  },
  {
   "cell_type": "code",
   "execution_count": 5,
   "id": "d418eec5",
   "metadata": {},
   "outputs": [],
   "source": [
    "class RemoteStorageFile(MediaFile):\n",
    "    def __init__(self, name, size, created_at, owner, url):\n",
    "        super().__init__(name, size, created_at, owner)\n",
    "        self.url = url\n",
    "\n",
    "    def get_metadata(self):\n",
    "        return {\n",
    "            \"name\": self.name,\n",
    "            \"size\": self.size,\n",
    "            \"created_at\": self.created_at,\n",
    "            \"owner\": self.owner,\n",
    "            \"url\": self.url\n",
    "        }\n",
    "\n",
    "    def save(self, path: str):\n",
    "        # Сохраняем файл в облако\n",
    "        pass\n",
    "\n",
    "    def delete(self):\n",
    "        # Удаляем с сервера/облака\n",
    "        pass\n",
    "\n",
    "    def process(self):\n",
    "        # Обработка файла с удалённого хранилища\n",
    "        pass\n"
   ]
  },
  {
   "cell_type": "markdown",
   "id": "47d13612",
   "metadata": {},
   "source": [
    "## Пример использования"
   ]
  },
  {
   "cell_type": "code",
   "execution_count": null,
   "id": "929fedd0",
   "metadata": {},
   "outputs": [],
   "source": [
    "audio = AudioFile(\"track.mp3\", 2048, datetime.now(), \"Frodo\", 180, \"mp3\")\n",
    "print(audio.get_metadata())\n"
   ]
  },
  {
   "cell_type": "markdown",
   "id": "3c2c87d4",
   "metadata": {},
   "source": [
    "## Ответы на вопросы:\n",
    "\n",
    "### Много ли придётся переписать при добавлении нового типа файла?\n",
    "\n",
    "Нет, достаточно создать новый класс и реализовать нужные методы. Это расширение (не модификация). Архитектура по принципу OCP.\n",
    "\n",
    "### Хранение на другом носителе (облако)?\n",
    "\n",
    "Тоже решается добавлением нового класса (например, S3PhotoFile, CloudVideoFile). Текущую иерархию можно повторно использовать."
   ]
  }
 ],
 "metadata": {
  "kernelspec": {
   "display_name": "Python 3",
   "language": "python",
   "name": "python3"
  },
  "language_info": {
   "codemirror_mode": {
    "name": "ipython",
    "version": 3
   },
   "file_extension": ".py",
   "mimetype": "text/x-python",
   "name": "python",
   "nbconvert_exporter": "python",
   "pygments_lexer": "ipython3",
   "version": "3.9.6"
  }
 },
 "nbformat": 4,
 "nbformat_minor": 5
}
