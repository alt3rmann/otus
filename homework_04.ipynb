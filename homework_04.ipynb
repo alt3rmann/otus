{
  "cells": [
    {
      "cell_type": "markdown",
      "metadata": {
        "id": "rL70m2sic0jV"
      },
      "source": [
        "# <center> Homework 1 </center>"
      ]
    },
    {
      "cell_type": "markdown",
      "metadata": {
        "id": "JVd5jRlPc0jY"
      },
      "source": [
        "# 0. Где мы сейчас?\n",
        "<img src=\"https://upload.wikimedia.org/wikipedia/commons/thumb/3/38/Jupyter_logo.svg/1200px-Jupyter_logo.svg.png\" width=\"150\">\n",
        "\n",
        "[Jupyter Notebook](https://jupyter.org/) - интерактивная среда для запуска программного кода в браузере. Удобный инструмент для анализа данных, который используется многими специалистами по data science. Позволяет выполнять отдельные ячейки с кодом, а не всю программу сразу, что очень удобно при знакомстве с данными."
      ]
    },
    {
      "cell_type": "markdown",
      "metadata": {
        "id": "k8hj3Kdvc0jZ"
      },
      "source": [
        "# 1. Python\n",
        "> Python - это свободный интерпретируемый объектно-ориентированный расширяемый встраиваемый язык программирования очень высокого уровня\n",
        "\n",
        ">*(Г.Россум, Ф.Л.Дж.Дрейк, Д.С.Откидач \"Язык программирования Python\").*\n",
        "\n",
        "А если без цитат, то питон - это просто очень крутой язык, созданный в 1991 году [Великодушным пожизненным диктатором](https://ru.wikipedia.org/wiki/%D0%92%D0%B5%D0%BB%D0%B8%D0%BA%D0%BE%D0%B4%D1%83%D1%88%D0%BD%D1%8B%D0%B9_%D0%BF%D0%BE%D0%B6%D0%B8%D0%B7%D0%BD%D0%B5%D0%BD%D0%BD%D1%8B%D0%B9_%D0%B4%D0%B8%D0%BA%D1%82%D0%B0%D1%82%D0%BE%D1%80) Гвидо ван Россумом и названный в честь любимого им шоу [Monty Python's Flying Circus](https://en.wikipedia.org/wiki/Monty_Python%27s_Flying_Circus)\n",
        "\n",
        "<img src=\"https://advancelocal-adapter-image-uploads.s3.amazonaws.com/image.oregonlive.com/home/olive-media/width2048/img/tv/photo/2018/10/10/montycastjpg-7ef393e2355a42aa.jpg\" width=\"300\">"
      ]
    },
    {
      "cell_type": "markdown",
      "metadata": {
        "id": "llQ9RXHfc0ja"
      },
      "source": [
        "# 2. Anaconda\n",
        "\n",
        "[Сборка Anaconda](https://www.anaconda.com/products/individual) включает очень много полезных библиотек для анализа данных.\n",
        "\n",
        "Среди наиболее популярных библиотек:\n",
        " - <a href=\"http://numpy.org\">Numpy</a> - это один из основных пакетов для математических вычислений. Он содержит средства для работы с многомерными массивами и высокоуровневыми математическими функциями\n",
        " - <a href=\"https://www.scipy.org/\">SciPy</a> - научные вычисления. Методы оптимизации, интегрирования, модули обработки сигналов и изображений, статистика, линейная алгебра, сплайны, кластеризация и многое другое\n",
        " -  <a href=\"http://pandas.pydata.org/\">Pandas</a> - основная библиотека для обработки и анализа данных. Предназначена для данных разной природы - матричных, панельных данных, временных рядов. Претендует на звание самого мощного и гибкого средства для анализа данных с открытым исходным кодом\n",
        " - <a href=\"http://scikit-learn.org/stable/\">Scikit-learn</a> - реализация очень многих методов машинного обучения с отличной документацией.\n",
        " - <a href=\"http://http://matplotlib.org/\">matplotlib</a> - хорошая библиотека для визуализации данных\n",
        "\n",
        " С этими библиотеками вы будете знакомится дальше на курсе, а пока давайте попрактикуемся в решении базовых задач на  чистом Python."
      ]
    },
    {
      "cell_type": "markdown",
      "metadata": {
        "id": "rfAcLe-Tc0ja"
      },
      "source": [
        "# 3. Задачки"
      ]
    },
    {
      "cell_type": "markdown",
      "metadata": {
        "id": "y7gWqyZpc0jb"
      },
      "source": [
        "## Задача 1\n",
        "$N$ хоббитов делят $K$ кусков эльфийского хлеба поровну, не делящийся нацело остаток остается в корзинке у Сэма. Напишите функцию, которая принимает на вход параметры $N$ и $K$ и возвращает два числа: $x$ - cколько кусков эльфиского хлеба достанется каждому хоббиту, и $y$ - сколько кусков остаётся в корзинке."
      ]
    },
    {
      "cell_type": "code",
      "execution_count": 3,
      "metadata": {
        "id": "m9mteFtwc0jb"
      },
      "outputs": [],
      "source": [
        "def share_bread(N, K):\n",
        "    x = K // N\n",
        "    y = K % N\n",
        "    return x, y\n",
        "\n",
        "# если в функции всё верно, то после выполнения этой строчки, не должно выскакивать ошибок\n",
        "assert share_bread(N=3, K=14) == (4, 2)"
      ]
    },
    {
      "cell_type": "markdown",
      "metadata": {
        "id": "i24Th8I7c0jc"
      },
      "source": [
        "## Задача 2\n",
        "\n",
        "В копях Мории хоббиты нашли стену, на которой высечены разные натуральные числа. Согласно древним сказаниям, это даты сражений. Хоббиты знают, что сражения происходили только по високосным годам. Помогите хоббитам определить, является ли год с данным числом датой великого сражения. Если это так, то верните строку \"YOU SHALL PASS\", иначе верните \"YOU SHALL NOT PASS\". Напомним, что в соответствии с хоббитским календарем, год является високосным, если его номер кратен 4, но не кратен 100, а также если он кратен 400."
      ]
    },
    {
      "cell_type": "code",
      "execution_count": 6,
      "metadata": {
        "id": "3SnU33pPc0jc"
      },
      "outputs": [],
      "source": [
        "def leap_year(year):\n",
        "    if (year % 4 == 0 and year % 100 != 0) or (year % 400 == 0):\n",
        "        return \"YOU SHALL PASS\"\n",
        "    else:\n",
        "        return \"YOU SHALL NOT PASS\"\n",
        "\n",
        "assert leap_year(5) == 'YOU SHALL NOT PASS'"
      ]
    },
    {
      "cell_type": "markdown",
      "metadata": {
        "id": "-oibBIG4c0jd"
      },
      "source": [
        "## Задача 3\n",
        "<img src=\"http://i0.kym-cdn.com/photos/images/original/001/187/255/5e9.gif\" width=300>\n",
        "\n",
        "\n",
        "Для могущественного магического ритуала Гендальфу необходимо быстро подсчитывать площадь своего амулета, который умеет менять размеры. Известно, что амулет имеет форму треугольника и Гендальф знает длину каждой из сторон. Напишите функцию, которая считает площадь амулета по трем сторонам.  \n",
        "\n",
        "**Подсказка:** используйте формулу Герона\n",
        "$$ S = \\sqrt{p(p-a)(p-b)(p-c)} $$\n",
        "$$ p = \\frac{a + b + c}{2}$$\n"
      ]
    },
    {
      "cell_type": "code",
      "execution_count": 8,
      "metadata": {
        "id": "Uln7wcTVc0jd"
      },
      "outputs": [],
      "source": [
        "import math\n",
        "\n",
        "def amulet_area(a, b, c):\n",
        "    p = (a + b + c) / 2\n",
        "    S = math.sqrt(p * (p - a) * (p - b) * (p - c))\n",
        "    return S\n",
        "\n",
        "assert amulet_area(3, 4, 5) == 6"
      ]
    },
    {
      "cell_type": "markdown",
      "metadata": {
        "id": "Os5KM6bQc0jd"
      },
      "source": [
        "## Задача 4\n",
        "\n",
        "Хоббиты собираются пешком идти до Мордора и им нужно подсчитать расстояние, которое им предстоит пройти. Хоббиты смогли вспомнить сразу несколько метрик расстояния: евклидово, манхэттена и косинусное, так что ваша задача - написать функцию под каждую из них. Важное условие - используйте только базовые функции для решения.\n",
        "\n",
        "\n",
        "* Евклидово расстояние\n",
        "$$ d(a, b) = \\sqrt{\\sum_i (a_i - b_i)^2} $$\n",
        "* Расстояние Манхэттена\n",
        "$$ d(a, b) = \\sum_i |a_i - b_i| $$\n",
        "* Косинусное расстояние\n",
        "$$ d(a, b) = 1 - \\frac{a^\\top b}{||a||_2\\cdot||b||_2}$$"
      ]
    },
    {
      "cell_type": "code",
      "execution_count": 14,
      "metadata": {
        "id": "_21LOuZRc0jd"
      },
      "outputs": [],
      "source": [
        "import numpy as np\n",
        "\n",
        "def cal_euclidean(a, b):\n",
        "    distance = np.sqrt(sum((ai - bi)**2 for ai, bi in zip(a, b)))\n",
        "    return distance\n",
        "\n",
        "def cal_manhattan(a, b):\n",
        "    distance = sum(abs(ai - bi) for ai, bi in zip(a, b))\n",
        "    return distance\n",
        "\n",
        "def cal_cosine(a, b):\n",
        "    dot_product = sum(ai * bi for ai, bi in zip(a, b))\n",
        "    norm_a = np.sqrt(sum(ai**2 for ai in a))\n",
        "    norm_b = np.sqrt(sum(bi**2 for bi in b))\n",
        "    distance = 1 - dot_product / (norm_a * norm_b)\n",
        "    return distance"
      ]
    },
    {
      "cell_type": "code",
      "execution_count": 15,
      "metadata": {
        "id": "fvyqAKchc0je"
      },
      "outputs": [
        {
          "name": "stdout",
          "output_type": "stream",
          "text": [
            "19.974984355438178\n",
            "51\n",
            "0.6457760513488567\n"
          ]
        }
      ],
      "source": [
        "\n",
        "\n",
        "a = np.random.randint(-10, 10, size=10)\n",
        "b = np.random.randint(-10, 10, size=10)\n",
        "print(cal_euclidean(a, b))\n",
        "print(cal_manhattan(a, b))\n",
        "print(cal_cosine(a, b))"
      ]
    },
    {
      "cell_type": "markdown",
      "metadata": {
        "id": "w1L3GDw3c0je"
      },
      "source": [
        "## Задача 5* (бонусное неоцениваемое задание)\n",
        "\n",
        "**Замечание:** Поскольку библиотеку numpy мы будем подробно разбирать дальше, то это задание является бонусным, его выполнение необязательно для сдачи ДЗ и не влияет на итоговый балл. Как вариант, можете вернуться к нему после прохождения numpy ;)\n",
        "\n"
      ]
    },
    {
      "cell_type": "markdown",
      "metadata": {
        "id": "aEDIBiRpc0je"
      },
      "source": [
        "Создайте случайный array (`np.random.rand()`) длинной 100. Преобразуйте его так, чтобы\n",
        "* Максимальный элемент(ы) был равен 1\n",
        "* Минимальный элемент(ы) был равен 0\n",
        "* Остальные элементы в интервале от 0 до 1 остаются прежними"
      ]
    },
    {
      "cell_type": "code",
      "execution_count": 17,
      "metadata": {
        "id": "AFye6XzXc0je"
      },
      "outputs": [
        {
          "name": "stdout",
          "output_type": "stream",
          "text": [
            "Max: 1.0 Min: 0.0\n",
            "[0.47913419 0.98907109 0.19592565 0.02116289 0.55713092 0.61250177\n",
            " 0.79630647 0.08139938 0.52213922 0.42901246 0.0140459  0.66984666\n",
            " 0.28676986 0.98663592 0.51718319 0.50558595 0.84675647 0.03342632\n",
            " 0.5530254  0.37644385 0.66255175 0.38240258 0.83033041 0.48503622\n",
            " 0.82988431 0.09643179 0.80467637 0.67911859 0.73702907 0.80736602\n",
            " 0.52082006 0.70713671 0.51745432 0.79235179 0.41178535 0.21843354\n",
            " 0.44963636 0.94050856 0.23336674 0.55388361 0.80969372 0.35631217\n",
            " 0.58349263 0.65629456 0.39190249 0.01420616 0.43726952 0.51595036\n",
            " 0.77637727 0.35568686 0.88458605 0.00981223 0.19842123 0.51290932\n",
            " 0.98753063 0.52362814 0.81829245 0.22592137 0.04527518 0.28219479\n",
            " 0.61378685 0.68848048 0.93671524 0.82626027 0.70200183 0.535937\n",
            " 0.02847668 0.         0.61868755 0.86693442 0.17049514 0.78215536\n",
            " 0.47160586 0.86983105 0.50022913 0.55139585 0.60897379 0.38743202\n",
            " 0.92779179 0.64405075 0.1571351  0.25584853 0.13824933 0.07429473\n",
            " 0.78219004 0.25974306 0.44951843 0.81539198 0.65720438 0.88780923\n",
            " 0.0178987  0.43942868 0.37886916 0.25508449 0.49149338 0.00949966\n",
            " 0.93335385 0.89529124 1.         0.11176252]\n"
          ]
        }
      ],
      "source": [
        "import numpy as np\n",
        "\n",
        "# Создаём массив\n",
        "my_array = np.random.rand(100)\n",
        "\n",
        "# Находим минимум и максимум\n",
        "min_val = np.min(my_array)\n",
        "max_val = np.max(my_array)\n",
        "\n",
        "# Заменяем минимальные на 0, максимальные на 1\n",
        "my_array[my_array == min_val] = 0\n",
        "my_array[my_array == max_val] = 1\n",
        "\n",
        "# Проверка\n",
        "print(\"Max:\", np.max(my_array), \"Min:\", np.min(my_array))\n",
        "print(my_array)\n"
      ]
    },
    {
      "cell_type": "markdown",
      "metadata": {
        "id": "D84Jpwmmc0je"
      },
      "source": [
        "Создайте array размером $5 \\times 6$ с целыми числами в интервале [0,50]. Напечатайте колонку, которая содержит максимальный элемент полученной матрицы"
      ]
    },
    {
      "cell_type": "code",
      "execution_count": 19,
      "metadata": {
        "id": "SXaKW9bec0je"
      },
      "outputs": [
        {
          "name": "stdout",
          "output_type": "stream",
          "text": [
            "Shape: (5, 6)\n",
            "Array:\n",
            "[[39 45 48 50 32 42]\n",
            " [14 46 32  9 24  1]\n",
            " [20 49 38  4  3 49]\n",
            " [ 9  7 17 48 50 17]\n",
            " [29 23 36 15  4 18]]\n",
            "Selected column with max value:\n",
            "[50  9  4 48 15]\n"
          ]
        }
      ],
      "source": [
        "import numpy as np\n",
        "\n",
        "# Создаём массив 5x6 с числами от 0 до 50\n",
        "my_array = np.random.randint(0, 51, size=(5, 6))\n",
        "\n",
        "# Находим индекс столбца с максимальным значением\n",
        "max_index = np.unravel_index(np.argmax(my_array), my_array.shape)[1]\n",
        "selected_column = my_array[:, max_index]\n",
        "\n",
        "# Вывод\n",
        "print('Shape:', my_array.shape)\n",
        "print('Array:')\n",
        "print(my_array)\n",
        "print('Selected column with max value:')\n",
        "print(selected_column)\n"
      ]
    },
    {
      "cell_type": "markdown",
      "metadata": {
        "id": "g3scUf0_c0je"
      },
      "source": [
        "Напишите функцию, которая принимает на вход матрицу (array) X и возвращает все её уникальные строки в виде новой матрицы."
      ]
    },
    {
      "cell_type": "code",
      "execution_count": 23,
      "metadata": {
        "id": "75j1Kyzvc0je"
      },
      "outputs": [
        {
          "name": "stdout",
          "output_type": "stream",
          "text": [
            "Исходная матрица:\n",
            "[[4 5 5]\n",
            " [4 5 5]\n",
            " [4 4 4]\n",
            " [5 4 4]\n",
            " [5 5 5]\n",
            " [4 5 4]\n",
            " [4 5 5]\n",
            " [5 5 4]\n",
            " [5 5 5]\n",
            " [4 5 4]]\n",
            "Уникальные строки:\n",
            "[[4 4 4]\n",
            " [4 5 4]\n",
            " [4 5 5]\n",
            " [5 4 4]\n",
            " [5 5 4]\n",
            " [5 5 5]]\n"
          ]
        }
      ],
      "source": [
        "def get_unique_rows(X):\n",
        "    X_unique = np.unique(X, axis=0)\n",
        "    return X_unique\n",
        "\n",
        "# Пример использования\n",
        "X = np.random.randint(4, 6, size=(10, 3))\n",
        "print(\"Исходная матрица:\")\n",
        "print(X)\n",
        "\n",
        "print(\"Уникальные строки:\")\n",
        "print(get_unique_rows(X))\n"
      ]
    },
    {
      "cell_type": "code",
      "execution_count": 24,
      "metadata": {
        "id": "HzY-9KwGc0je"
      },
      "outputs": [
        {
          "name": "stdout",
          "output_type": "stream",
          "text": [
            "[[5 5 4]\n",
            " [4 4 5]\n",
            " [5 5 5]\n",
            " [4 5 4]\n",
            " [5 4 5]\n",
            " [4 5 5]\n",
            " [5 4 4]\n",
            " [4 5 5]\n",
            " [4 5 4]\n",
            " [4 5 4]]\n"
          ]
        }
      ],
      "source": [
        "X = np.random.randint(4, 6, size=(10,3))\n",
        "print(X)"
      ]
    },
    {
      "cell_type": "code",
      "execution_count": 25,
      "metadata": {
        "id": "UiAM62AGc0jf"
      },
      "outputs": [
        {
          "data": {
            "text/plain": [
              "array([[4, 4, 5],\n",
              "       [4, 5, 4],\n",
              "       [4, 5, 5],\n",
              "       [5, 4, 4],\n",
              "       [5, 4, 5],\n",
              "       [5, 5, 4],\n",
              "       [5, 5, 5]])"
            ]
          },
          "execution_count": 25,
          "metadata": {},
          "output_type": "execute_result"
        }
      ],
      "source": [
        "get_unique_rows(X)"
      ]
    }
  ],
  "metadata": {
    "colab": {
      "provenance": []
    },
    "kernelspec": {
      "display_name": "Python 3",
      "language": "python",
      "name": "python3"
    },
    "language_info": {
      "codemirror_mode": {
        "name": "ipython",
        "version": 3
      },
      "file_extension": ".py",
      "mimetype": "text/x-python",
      "name": "python",
      "nbconvert_exporter": "python",
      "pygments_lexer": "ipython3",
      "version": "3.9.6"
    },
    "varInspector": {
      "cols": {
        "lenName": 16,
        "lenType": 16,
        "lenVar": 40
      },
      "kernels_config": {
        "python": {
          "delete_cmd_postfix": "",
          "delete_cmd_prefix": "del ",
          "library": "var_list.py",
          "varRefreshCmd": "print(var_dic_list())"
        },
        "r": {
          "delete_cmd_postfix": ") ",
          "delete_cmd_prefix": "rm(",
          "library": "var_list.r",
          "varRefreshCmd": "cat(var_dic_list()) "
        }
      },
      "types_to_exclude": [
        "module",
        "function",
        "builtin_function_or_method",
        "instance",
        "_Feature"
      ],
      "window_display": false
    }
  },
  "nbformat": 4,
  "nbformat_minor": 0
}
